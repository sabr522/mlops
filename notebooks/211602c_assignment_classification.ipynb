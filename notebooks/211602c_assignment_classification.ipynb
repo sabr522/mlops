{
 "cells": [
  {
   "cell_type": "code",
   "execution_count": null,
   "id": "5d7074d3-f86b-4937-850c-6ba003338525",
   "metadata": {},
   "outputs": [],
   "source": [
    "import seaborn as sns\n",
    "import pandas as pd\n",
    "import matplotlib.pyplot as plt\n",
    "import numpy as np\n",
    "import pycaret"
   ]
  },
  {
   "cell_type": "code",
   "execution_count": null,
   "id": "d34a006c-3cac-42a1-9211-b842ac2d7c7c",
   "metadata": {},
   "outputs": [],
   "source": [
    "#Importing the dataset\n",
    "\n",
    "df = pd.read_csv('../data/02_mushroom_data.csv')\n"
   ]
  },
  {
   "cell_type": "code",
   "execution_count": null,
   "id": "0c560d34-88f6-4bd2-b999-234d5781a510",
   "metadata": {},
   "outputs": [],
   "source": [
    "# import pycaret classification and init setup\n",
    "from pycaret.classification import *\n",
    "\n",
    "s = setup(df, \n",
    "      target='class',\n",
    "      feature_selection=True,\n",
    "      n_features_to_select=0.2,\n",
    "      remove_multicollinearity=True,\n",
    "      multicollinearity_threshold=0.90,\n",
    "      ordinal_features={'population':['scattered','numerous','abundant'],'ring-number':['none','one','two']},\n",
    "      low_variance_threshold=0.2,\n",
    "      categorical_imputation='drop',\n",
    "      session_id = 123\n",
    "      \n",
    "      )"
   ]
  },
  {
   "cell_type": "code",
   "execution_count": null,
   "id": "127b7c62-3a7b-45f9-bfe8-15deadcfce64",
   "metadata": {},
   "outputs": [],
   "source": [
    "s.get_config('dataset_transformed')"
   ]
  },
  {
   "cell_type": "markdown",
   "id": "27cee187-bece-47cd-a188-7d6d384d087b",
   "metadata": {},
   "source": [
    "!!!!!  (For assignment purposes) For PyCaret, there seems to be some ongoing bug with it where compare_models() shows AUC as 0 for every model. However when you plot it inside a graph, AUC will be shown. Link to the verified bug post in pycaret github: https://github.com/pycaret/pycaret/issues/3916"
   ]
  },
  {
   "cell_type": "code",
   "execution_count": null,
   "id": "b7310289-942c-4250-b8f0-770af0db0998",
   "metadata": {},
   "outputs": [],
   "source": [
    "best = compare_models()"
   ]
  },
  {
   "cell_type": "code",
   "execution_count": null,
   "id": "21710971-6bd5-4e84-97a5-dcc514d3bd3e",
   "metadata": {},
   "outputs": [],
   "source": [
    "df2 = s.get_config('dataset_transformed')"
   ]
  },
  {
   "cell_type": "code",
   "execution_count": null,
   "id": "2aeff683-7676-44fe-a3bf-cd79cfa67d5b",
   "metadata": {},
   "outputs": [],
   "source": [
    "df2 = df2.reset_index(drop=True)\n",
    "df2"
   ]
  },
  {
   "cell_type": "code",
   "execution_count": null,
   "id": "47ded83c-3f5c-4566-b9a2-24b3a2451a8a",
   "metadata": {},
   "outputs": [],
   "source": [
    "plot_model(best, plot = 'auc')"
   ]
  },
  {
   "cell_type": "code",
   "execution_count": null,
   "id": "f269afcf-7558-4bd6-bade-e51efffc2c4c",
   "metadata": {},
   "outputs": [],
   "source": [
    "plot_model(best, plot = 'confusion_matrix')"
   ]
  },
  {
   "cell_type": "code",
   "execution_count": null,
   "id": "c971c3fc-eff0-430e-92d0-896aa461bff3",
   "metadata": {},
   "outputs": [],
   "source": [
    "holdout_pred = predict_model(best)"
   ]
  },
  {
   "cell_type": "code",
   "execution_count": null,
   "id": "46f459c1-c8ed-4038-8431-2bb4de00c7d5",
   "metadata": {},
   "outputs": [],
   "source": [
    "holdout_pred.head()"
   ]
  },
  {
   "cell_type": "code",
   "execution_count": null,
   "id": "fdb4ccbe-602e-49ec-8999-3b2c35740aef",
   "metadata": {},
   "outputs": [],
   "source": [
    "# copy data and drop Class variable\n",
    "\n",
    "new_data = df.copy()\n",
    "new_data.drop('class', axis=1, inplace=True)\n",
    "new_data.head()"
   ]
  },
  {
   "cell_type": "code",
   "execution_count": null,
   "id": "4dfbb524-a247-4cae-9c2a-fba7d3e18447",
   "metadata": {},
   "outputs": [],
   "source": [
    "predictions = predict_model(best, data = new_data)\n",
    "predictions.head()"
   ]
  },
  {
   "cell_type": "code",
   "execution_count": null,
   "id": "8d3513c5-9a5d-4152-b42d-f91e8f7b2c37",
   "metadata": {},
   "outputs": [],
   "source": [
    "evaluate_model(best)"
   ]
  },
  {
   "cell_type": "code",
   "execution_count": null,
   "id": "2685e94d-5277-4064-8542-dbf434b5cd7b",
   "metadata": {},
   "outputs": [],
   "source": []
  },
  {
   "cell_type": "code",
   "execution_count": null,
   "id": "d3f030b2-1160-4438-b195-32799410aec0",
   "metadata": {},
   "outputs": [],
   "source": [
    "s = setup(df2,log_experiment=True,experiment_name='211602C', session_id=123)"
   ]
  },
  {
   "cell_type": "code",
   "execution_count": null,
   "id": "30d18fae-e8b5-401e-af21-c19d7d9c4393",
   "metadata": {},
   "outputs": [],
   "source": [
    "best = compare_models()"
   ]
  },
  {
   "cell_type": "code",
   "execution_count": null,
   "id": "9ecd5e0a-fcd4-410d-9d28-c36212ed795e",
   "metadata": {},
   "outputs": [],
   "source": [
    "# check the final params of best model\n",
    "best.get_params()"
   ]
  },
  {
   "cell_type": "code",
   "execution_count": null,
   "id": "c880059f-315b-4f6a-8bc0-f928e788f423",
   "metadata": {},
   "outputs": [],
   "source": [
    "new_data = df2.copy()\n",
    "new_data.drop('class', axis=1, inplace=True)\n",
    "new_data.head()"
   ]
  },
  {
   "cell_type": "code",
   "execution_count": null,
   "id": "df7d8b5f-8ad4-4ae8-9a66-b3d5178e4292",
   "metadata": {},
   "outputs": [],
   "source": [
    "predictions = predict_model(best, data = new_data)\n",
    "predictions.head()"
   ]
  },
  {
   "cell_type": "code",
   "execution_count": null,
   "id": "bf95e58a-2f17-4ab6-a546-53023432cfb1",
   "metadata": {},
   "outputs": [],
   "source": [
    "evaluate_model(best)"
   ]
  },
  {
   "cell_type": "code",
   "execution_count": null,
   "id": "6387fdda-0b51-44c2-bcd5-3e619f830802",
   "metadata": {},
   "outputs": [],
   "source": [
    "final_best = finalize_model(best)\n",
    "save_model(best,\"../models/mushroomclass\")"
   ]
  },
  {
   "cell_type": "code",
   "execution_count": null,
   "id": "32ef6d49-5799-49fc-b39f-ba62d9ff5448",
   "metadata": {},
   "outputs": [],
   "source": [
    "pipeline = load_model('../models/mushroomclass')\n"
   ]
  },
  {
   "cell_type": "code",
   "execution_count": null,
   "id": "7eee9ff5-1c43-48d2-a834-77d21463fd23",
   "metadata": {},
   "outputs": [],
   "source": [
    "predictions.head()"
   ]
  },
  {
   "cell_type": "code",
   "execution_count": null,
   "id": "ebb09ef7-f3e1-44c0-b093-27e94ac7bdba",
   "metadata": {},
   "outputs": [],
   "source": [
    "predictions.info()"
   ]
  },
  {
   "cell_type": "code",
   "execution_count": null,
   "id": "93b764eb-bbea-498a-8e14-f68e6c54f1c9",
   "metadata": {},
   "outputs": [],
   "source": []
  }
 ],
 "metadata": {
  "kernelspec": {
   "display_name": "Python 3 (ipykernel)",
   "language": "python",
   "name": "python3"
  },
  "language_info": {
   "codemirror_mode": {
    "name": "ipython",
    "version": 3
   },
   "file_extension": ".py",
   "mimetype": "text/x-python",
   "name": "python",
   "nbconvert_exporter": "python",
   "pygments_lexer": "ipython3",
   "version": "3.10.13"
  }
 },
 "nbformat": 4,
 "nbformat_minor": 5
}
